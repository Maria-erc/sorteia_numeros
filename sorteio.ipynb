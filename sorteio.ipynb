{
 "cells": [
  {
   "cell_type": "code",
   "execution_count": 4,
   "metadata": {},
   "outputs": [
    {
     "data": {
      "text/plain": [
       "[[2, 3, 41, 57, 13, 7],\n",
       " [39, 35, 41, 28, 25, 37],\n",
       " [58, 13, 37, 30, 55, 18],\n",
       " [59, 43, 22, 54, 49, 48],\n",
       " [25, 17, 35, 52, 1, 56],\n",
       " [58, 36, 22, 17, 21, 50],\n",
       " [3, 18, 10, 54, 56, 45],\n",
       " [59, 44, 34, 17, 45, 13],\n",
       " [7, 45, 49, 26, 36, 32],\n",
       " [43, 54, 19, 60, 11, 7]]"
      ]
     },
     "execution_count": 4,
     "metadata": {},
     "output_type": "execute_result"
    }
   ],
   "source": [
    "import random\n",
    "\n",
    "quantidade_sorteios = 10\n",
    "quantidade_numeros = 6\n",
    "inicio_faixa_sorteio = 1\n",
    "fim_faixa_sorteio = 61\n",
    "\n",
    "matriz = []\n",
    "for rodada in range(quantidade_sorteios):\n",
    "    jogo = []\n",
    "    while len(jogo) < quantidade_numeros:\n",
    "        num = random.randrange(inicio_faixa_sorteio,fim_faixa_sorteio)\n",
    "        if num not in jogo: \n",
    "            jogo.append(num)\n",
    "    matriz.append(jogo)\n",
    "matriz"
   ]
  },
  {
   "cell_type": "code",
   "execution_count": 5,
   "metadata": {},
   "outputs": [
    {
     "data": {
      "text/plain": [
       "Counter({2: 1,\n",
       "         3: 2,\n",
       "         41: 2,\n",
       "         57: 1,\n",
       "         13: 3,\n",
       "         7: 3,\n",
       "         39: 1,\n",
       "         35: 2,\n",
       "         28: 1,\n",
       "         25: 2,\n",
       "         37: 2,\n",
       "         58: 2,\n",
       "         30: 1,\n",
       "         55: 1,\n",
       "         18: 2,\n",
       "         59: 2,\n",
       "         43: 2,\n",
       "         22: 2,\n",
       "         54: 3,\n",
       "         49: 2,\n",
       "         48: 1,\n",
       "         17: 3,\n",
       "         52: 1,\n",
       "         1: 1,\n",
       "         56: 2,\n",
       "         36: 2,\n",
       "         21: 1,\n",
       "         50: 1,\n",
       "         10: 1,\n",
       "         45: 3,\n",
       "         44: 1,\n",
       "         34: 1,\n",
       "         26: 1,\n",
       "         32: 1,\n",
       "         19: 1,\n",
       "         60: 1,\n",
       "         11: 1})"
      ]
     },
     "execution_count": 5,
     "metadata": {},
     "output_type": "execute_result"
    }
   ],
   "source": [
    "from itertools import chain\n",
    "from collections import Counter\n",
    "contador = Counter(chain.from_iterable(matriz))\n",
    "contador"
   ]
  },
  {
   "cell_type": "code",
   "execution_count": 6,
   "metadata": {},
   "outputs": [
    {
     "name": "stdout",
     "output_type": "stream",
     "text": [
      "{13: 3, 7: 3, 54: 3, 17: 3, 45: 3, 3: 2, 41: 2, 35: 2, 25: 2, 37: 2, 58: 2, 18: 2, 59: 2, 43: 2, 22: 2, 49: 2, 56: 2, 36: 2, 2: 1, 57: 1, 39: 1, 28: 1, 30: 1, 55: 1, 48: 1, 52: 1, 1: 1, 21: 1, 50: 1, 10: 1, 44: 1, 34: 1, 26: 1, 32: 1, 19: 1, 60: 1, 11: 1}\n"
     ]
    }
   ],
   "source": [
    "contagem_ordenada = {k: v for k, v in sorted(contador.items(), key=lambda item: item[1], reverse=True)}\n",
    "print(contagem_ordenada)"
   ]
  }
 ],
 "metadata": {
  "interpreter": {
   "hash": "d31ac778d89b8991938e8e3c9c16af3f982755c7453153909569a5426ddff433"
  },
  "kernelspec": {
   "display_name": "Python 3.9.2 64-bit",
   "language": "python",
   "name": "python3"
  },
  "language_info": {
   "codemirror_mode": {
    "name": "ipython",
    "version": 3
   },
   "file_extension": ".py",
   "mimetype": "text/x-python",
   "name": "python",
   "nbconvert_exporter": "python",
   "pygments_lexer": "ipython3",
   "version": "3.9.2"
  },
  "orig_nbformat": 4
 },
 "nbformat": 4,
 "nbformat_minor": 2
}
